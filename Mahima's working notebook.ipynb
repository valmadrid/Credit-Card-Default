{
 "cells": [
  {
   "cell_type": "code",
   "execution_count": 2,
   "metadata": {},
   "outputs": [],
   "source": [
    "#installing all the necesaary packages and dictionaries\n",
    "\n",
    "# conda install -c conda-forge imbalanced-learn"
   ]
  },
  {
   "cell_type": "code",
   "execution_count": 7,
   "metadata": {},
   "outputs": [
    {
     "name": "stdout",
     "output_type": "stream",
     "text": [
      "Requirement already satisfied: graphviz in /Users/mahimakaushiva/opt/anaconda3/lib/python3.7/site-packages (0.13.2)\n",
      "Note: you may need to restart the kernel to use updated packages.\n"
     ]
    }
   ],
   "source": [
    "pip install graphviz;"
   ]
  },
  {
   "cell_type": "code",
   "execution_count": 8,
   "metadata": {},
   "outputs": [
    {
     "name": "stdout",
     "output_type": "stream",
     "text": [
      "Collecting package metadata (current_repodata.json): done\n",
      "Solving environment: done\n",
      "\n",
      "# All requested packages already installed.\n",
      "\n",
      "\n",
      "Note: you may need to restart the kernel to use updated packages.\n"
     ]
    }
   ],
   "source": [
    "conda install python-graphviz;"
   ]
  },
  {
   "cell_type": "code",
   "execution_count": 9,
   "metadata": {},
   "outputs": [
    {
     "name": "stdout",
     "output_type": "stream",
     "text": [
      "Requirement already satisfied: plot-metric in /Users/mahimakaushiva/opt/anaconda3/lib/python3.7/site-packages (0.0.6)\n",
      "Requirement already satisfied: scipy>=1.1.0 in /Users/mahimakaushiva/opt/anaconda3/lib/python3.7/site-packages (from plot-metric) (1.3.1)\n",
      "Requirement already satisfied: numpy>=1.15.4 in /Users/mahimakaushiva/opt/anaconda3/lib/python3.7/site-packages (from plot-metric) (1.17.2)\n",
      "Requirement already satisfied: colorlover>=0.3.0 in /Users/mahimakaushiva/opt/anaconda3/lib/python3.7/site-packages (from plot-metric) (0.3.0)\n",
      "Requirement already satisfied: scikit-learn>=0.21.2 in /Users/mahimakaushiva/opt/anaconda3/lib/python3.7/site-packages (from plot-metric) (0.22)\n",
      "Requirement already satisfied: pandas>=0.23.4 in /Users/mahimakaushiva/opt/anaconda3/lib/python3.7/site-packages (from plot-metric) (0.25.1)\n",
      "Requirement already satisfied: matplotlib>=3.0.2 in /Users/mahimakaushiva/opt/anaconda3/lib/python3.7/site-packages (from plot-metric) (3.1.1)\n",
      "Requirement already satisfied: seaborn>=0.9.0 in /Users/mahimakaushiva/opt/anaconda3/lib/python3.7/site-packages (from plot-metric) (0.9.0)\n",
      "Requirement already satisfied: joblib>=0.11 in /Users/mahimakaushiva/opt/anaconda3/lib/python3.7/site-packages (from scikit-learn>=0.21.2->plot-metric) (0.13.2)\n",
      "Requirement already satisfied: pytz>=2017.2 in /Users/mahimakaushiva/opt/anaconda3/lib/python3.7/site-packages (from pandas>=0.23.4->plot-metric) (2019.3)\n",
      "Requirement already satisfied: python-dateutil>=2.6.1 in /Users/mahimakaushiva/opt/anaconda3/lib/python3.7/site-packages (from pandas>=0.23.4->plot-metric) (2.8.0)\n",
      "Requirement already satisfied: cycler>=0.10 in /Users/mahimakaushiva/opt/anaconda3/lib/python3.7/site-packages (from matplotlib>=3.0.2->plot-metric) (0.10.0)\n",
      "Requirement already satisfied: kiwisolver>=1.0.1 in /Users/mahimakaushiva/opt/anaconda3/lib/python3.7/site-packages (from matplotlib>=3.0.2->plot-metric) (1.1.0)\n",
      "Requirement already satisfied: pyparsing!=2.0.4,!=2.1.2,!=2.1.6,>=2.0.1 in /Users/mahimakaushiva/opt/anaconda3/lib/python3.7/site-packages (from matplotlib>=3.0.2->plot-metric) (2.4.2)\n",
      "Requirement already satisfied: six>=1.5 in /Users/mahimakaushiva/opt/anaconda3/lib/python3.7/site-packages (from python-dateutil>=2.6.1->pandas>=0.23.4->plot-metric) (1.12.0)\n",
      "Requirement already satisfied: setuptools in /Users/mahimakaushiva/opt/anaconda3/lib/python3.7/site-packages (from kiwisolver>=1.0.1->matplotlib>=3.0.2->plot-metric) (41.4.0)\n",
      "Note: you may need to restart the kernel to use updated packages.\n"
     ]
    }
   ],
   "source": [
    "pip install plot-metric;"
   ]
  },
  {
   "cell_type": "code",
   "execution_count": 10,
   "metadata": {},
   "outputs": [],
   "source": [
    "#importing required packages\n",
    "import pandas as pd\n",
    "import pandas_profiling\n",
    "import numpy as np\n",
    "import matplotlib.pyplot as plt\n",
    "%matplotlib inline\n",
    "import seaborn as sns\n",
    "from sklearn.model_selection import train_test_split, GridSearchCV, cross_val_score\n",
    "from sklearn.metrics import accuracy_score, confusion_matrix, classification_report\n",
    "from sklearn.tree import DecisionTreeClassifier\n",
    "from sklearn.ensemble import BaggingClassifier, RandomForestClassifier, AdaBoostClassifier\n",
    "from sklearn.metrics import accuracy_score, roc_curve, auc\n",
    "from collections import Counter\n",
    "from sklearn.datasets import make_classification\n",
    "from imblearn.over_sampling import SMOTE\n",
    "from sklearn.tree import export_graphviz\n",
    "from IPython.display import Image  \n",
    "from pydotplus import graph_from_dot_data\n",
    "from sklearn.metrics import average_precision_score"
   ]
  },
  {
   "cell_type": "code",
   "execution_count": 11,
   "metadata": {
    "scrolled": true
   },
   "outputs": [
    {
     "data": {
      "text/html": [
       "<div>\n",
       "<style scoped>\n",
       "    .dataframe tbody tr th:only-of-type {\n",
       "        vertical-align: middle;\n",
       "    }\n",
       "\n",
       "    .dataframe tbody tr th {\n",
       "        vertical-align: top;\n",
       "    }\n",
       "\n",
       "    .dataframe thead th {\n",
       "        text-align: right;\n",
       "    }\n",
       "</style>\n",
       "<table border=\"1\" class=\"dataframe\">\n",
       "  <thead>\n",
       "    <tr style=\"text-align: right;\">\n",
       "      <th></th>\n",
       "      <th>default_payment_next_month</th>\n",
       "      <th>limit_bal</th>\n",
       "      <th>age</th>\n",
       "      <th>limit_used_sep</th>\n",
       "      <th>score_3mo</th>\n",
       "      <th>score_6mo</th>\n",
       "      <th>bill_amt_sep</th>\n",
       "      <th>bill_amt_aug</th>\n",
       "      <th>bill_amt_jul</th>\n",
       "      <th>bill_amt_jun</th>\n",
       "      <th>bill_amt_may</th>\n",
       "      <th>bill_amt_apr</th>\n",
       "      <th>pay_amt_sep</th>\n",
       "      <th>pay_amt_aug</th>\n",
       "      <th>pay_amt_jul</th>\n",
       "      <th>pay_amt_jun</th>\n",
       "      <th>pay_amt_may</th>\n",
       "      <th>pay_amt_apr</th>\n",
       "      <th>id</th>\n",
       "      <th>sex</th>\n",
       "      <th>education</th>\n",
       "      <th>marital_status</th>\n",
       "      <th>pay_sep</th>\n",
       "      <th>pay_aug</th>\n",
       "      <th>pay_jul</th>\n",
       "      <th>pay_jun</th>\n",
       "      <th>pay_may</th>\n",
       "      <th>pay_apr</th>\n",
       "      <th>pay_mode3</th>\n",
       "      <th>pay_mode3_cat</th>\n",
       "      <th>pay_sep_cat</th>\n",
       "      <th>pay_aug_cat</th>\n",
       "      <th>pay_jul_cat</th>\n",
       "      <th>pay_jun_cat</th>\n",
       "      <th>pay_may_cat</th>\n",
       "      <th>pay_apr_cat</th>\n",
       "      <th>age_cat</th>\n",
       "    </tr>\n",
       "  </thead>\n",
       "  <tbody>\n",
       "    <tr>\n",
       "      <td>0</td>\n",
       "      <td>1</td>\n",
       "      <td>20000</td>\n",
       "      <td>24</td>\n",
       "      <td>0.195650</td>\n",
       "      <td>3</td>\n",
       "      <td>-2</td>\n",
       "      <td>3913</td>\n",
       "      <td>3102</td>\n",
       "      <td>689</td>\n",
       "      <td>0</td>\n",
       "      <td>0</td>\n",
       "      <td>0</td>\n",
       "      <td>0</td>\n",
       "      <td>689</td>\n",
       "      <td>0</td>\n",
       "      <td>0</td>\n",
       "      <td>0</td>\n",
       "      <td>0</td>\n",
       "      <td>1</td>\n",
       "      <td>2</td>\n",
       "      <td>2</td>\n",
       "      <td>1</td>\n",
       "      <td>2</td>\n",
       "      <td>2</td>\n",
       "      <td>-1</td>\n",
       "      <td>-1</td>\n",
       "      <td>-2</td>\n",
       "      <td>-2</td>\n",
       "      <td>2</td>\n",
       "      <td>1</td>\n",
       "      <td>1</td>\n",
       "      <td>1</td>\n",
       "      <td>-1</td>\n",
       "      <td>-1</td>\n",
       "      <td>-1</td>\n",
       "      <td>-1</td>\n",
       "      <td>20-29</td>\n",
       "    </tr>\n",
       "    <tr>\n",
       "      <td>1</td>\n",
       "      <td>1</td>\n",
       "      <td>120000</td>\n",
       "      <td>26</td>\n",
       "      <td>0.022350</td>\n",
       "      <td>1</td>\n",
       "      <td>3</td>\n",
       "      <td>2682</td>\n",
       "      <td>1725</td>\n",
       "      <td>2682</td>\n",
       "      <td>3272</td>\n",
       "      <td>3455</td>\n",
       "      <td>3261</td>\n",
       "      <td>0</td>\n",
       "      <td>1000</td>\n",
       "      <td>1000</td>\n",
       "      <td>1000</td>\n",
       "      <td>0</td>\n",
       "      <td>2000</td>\n",
       "      <td>2</td>\n",
       "      <td>2</td>\n",
       "      <td>2</td>\n",
       "      <td>2</td>\n",
       "      <td>-1</td>\n",
       "      <td>2</td>\n",
       "      <td>0</td>\n",
       "      <td>0</td>\n",
       "      <td>0</td>\n",
       "      <td>2</td>\n",
       "      <td>-1</td>\n",
       "      <td>-1</td>\n",
       "      <td>-1</td>\n",
       "      <td>1</td>\n",
       "      <td>0</td>\n",
       "      <td>0</td>\n",
       "      <td>0</td>\n",
       "      <td>1</td>\n",
       "      <td>20-29</td>\n",
       "    </tr>\n",
       "    <tr>\n",
       "      <td>2</td>\n",
       "      <td>0</td>\n",
       "      <td>90000</td>\n",
       "      <td>34</td>\n",
       "      <td>0.324878</td>\n",
       "      <td>0</td>\n",
       "      <td>0</td>\n",
       "      <td>29239</td>\n",
       "      <td>14027</td>\n",
       "      <td>13559</td>\n",
       "      <td>14331</td>\n",
       "      <td>14948</td>\n",
       "      <td>15549</td>\n",
       "      <td>1518</td>\n",
       "      <td>1500</td>\n",
       "      <td>1000</td>\n",
       "      <td>1000</td>\n",
       "      <td>1000</td>\n",
       "      <td>5000</td>\n",
       "      <td>3</td>\n",
       "      <td>2</td>\n",
       "      <td>2</td>\n",
       "      <td>2</td>\n",
       "      <td>0</td>\n",
       "      <td>0</td>\n",
       "      <td>0</td>\n",
       "      <td>0</td>\n",
       "      <td>0</td>\n",
       "      <td>0</td>\n",
       "      <td>0</td>\n",
       "      <td>0</td>\n",
       "      <td>0</td>\n",
       "      <td>0</td>\n",
       "      <td>0</td>\n",
       "      <td>0</td>\n",
       "      <td>0</td>\n",
       "      <td>0</td>\n",
       "      <td>30-39</td>\n",
       "    </tr>\n",
       "    <tr>\n",
       "      <td>3</td>\n",
       "      <td>0</td>\n",
       "      <td>50000</td>\n",
       "      <td>37</td>\n",
       "      <td>0.939800</td>\n",
       "      <td>0</td>\n",
       "      <td>0</td>\n",
       "      <td>46990</td>\n",
       "      <td>48233</td>\n",
       "      <td>49291</td>\n",
       "      <td>28314</td>\n",
       "      <td>28959</td>\n",
       "      <td>29547</td>\n",
       "      <td>2000</td>\n",
       "      <td>2019</td>\n",
       "      <td>1200</td>\n",
       "      <td>1100</td>\n",
       "      <td>1069</td>\n",
       "      <td>1000</td>\n",
       "      <td>4</td>\n",
       "      <td>2</td>\n",
       "      <td>2</td>\n",
       "      <td>1</td>\n",
       "      <td>0</td>\n",
       "      <td>0</td>\n",
       "      <td>0</td>\n",
       "      <td>0</td>\n",
       "      <td>0</td>\n",
       "      <td>0</td>\n",
       "      <td>0</td>\n",
       "      <td>0</td>\n",
       "      <td>0</td>\n",
       "      <td>0</td>\n",
       "      <td>0</td>\n",
       "      <td>0</td>\n",
       "      <td>0</td>\n",
       "      <td>0</td>\n",
       "      <td>30-39</td>\n",
       "    </tr>\n",
       "    <tr>\n",
       "      <td>4</td>\n",
       "      <td>0</td>\n",
       "      <td>50000</td>\n",
       "      <td>57</td>\n",
       "      <td>0.172340</td>\n",
       "      <td>-2</td>\n",
       "      <td>-2</td>\n",
       "      <td>8617</td>\n",
       "      <td>5670</td>\n",
       "      <td>35835</td>\n",
       "      <td>20940</td>\n",
       "      <td>19146</td>\n",
       "      <td>19131</td>\n",
       "      <td>2000</td>\n",
       "      <td>36681</td>\n",
       "      <td>10000</td>\n",
       "      <td>9000</td>\n",
       "      <td>689</td>\n",
       "      <td>679</td>\n",
       "      <td>5</td>\n",
       "      <td>1</td>\n",
       "      <td>2</td>\n",
       "      <td>1</td>\n",
       "      <td>-1</td>\n",
       "      <td>0</td>\n",
       "      <td>-1</td>\n",
       "      <td>0</td>\n",
       "      <td>0</td>\n",
       "      <td>0</td>\n",
       "      <td>-1</td>\n",
       "      <td>-1</td>\n",
       "      <td>-1</td>\n",
       "      <td>0</td>\n",
       "      <td>-1</td>\n",
       "      <td>0</td>\n",
       "      <td>0</td>\n",
       "      <td>0</td>\n",
       "      <td>50-59</td>\n",
       "    </tr>\n",
       "  </tbody>\n",
       "</table>\n",
       "</div>"
      ],
      "text/plain": [
       "   default_payment_next_month  limit_bal  age  limit_used_sep  score_3mo  \\\n",
       "0                           1      20000   24        0.195650          3   \n",
       "1                           1     120000   26        0.022350          1   \n",
       "2                           0      90000   34        0.324878          0   \n",
       "3                           0      50000   37        0.939800          0   \n",
       "4                           0      50000   57        0.172340         -2   \n",
       "\n",
       "   score_6mo  bill_amt_sep  bill_amt_aug  bill_amt_jul  bill_amt_jun  \\\n",
       "0         -2          3913          3102           689             0   \n",
       "1          3          2682          1725          2682          3272   \n",
       "2          0         29239         14027         13559         14331   \n",
       "3          0         46990         48233         49291         28314   \n",
       "4         -2          8617          5670         35835         20940   \n",
       "\n",
       "   bill_amt_may  bill_amt_apr  pay_amt_sep  pay_amt_aug  pay_amt_jul  \\\n",
       "0             0             0            0          689            0   \n",
       "1          3455          3261            0         1000         1000   \n",
       "2         14948         15549         1518         1500         1000   \n",
       "3         28959         29547         2000         2019         1200   \n",
       "4         19146         19131         2000        36681        10000   \n",
       "\n",
       "   pay_amt_jun  pay_amt_may  pay_amt_apr  id  sex  education  marital_status  \\\n",
       "0            0            0            0   1    2          2               1   \n",
       "1         1000            0         2000   2    2          2               2   \n",
       "2         1000         1000         5000   3    2          2               2   \n",
       "3         1100         1069         1000   4    2          2               1   \n",
       "4         9000          689          679   5    1          2               1   \n",
       "\n",
       "   pay_sep  pay_aug  pay_jul  pay_jun  pay_may  pay_apr  pay_mode3  \\\n",
       "0        2        2       -1       -1       -2       -2          2   \n",
       "1       -1        2        0        0        0        2         -1   \n",
       "2        0        0        0        0        0        0          0   \n",
       "3        0        0        0        0        0        0          0   \n",
       "4       -1        0       -1        0        0        0         -1   \n",
       "\n",
       "   pay_mode3_cat  pay_sep_cat  pay_aug_cat  pay_jul_cat  pay_jun_cat  \\\n",
       "0              1            1            1           -1           -1   \n",
       "1             -1           -1            1            0            0   \n",
       "2              0            0            0            0            0   \n",
       "3              0            0            0            0            0   \n",
       "4             -1           -1            0           -1            0   \n",
       "\n",
       "   pay_may_cat  pay_apr_cat age_cat  \n",
       "0           -1           -1   20-29  \n",
       "1            0            1   20-29  \n",
       "2            0            0   30-39  \n",
       "3            0            0   30-39  \n",
       "4            0            0   50-59  "
      ]
     },
     "execution_count": 11,
     "metadata": {},
     "output_type": "execute_result"
    }
   ],
   "source": [
    "credit = pd.read_csv('df_cleaned.csv')\n",
    "pd.set_option('display.max_columns', 999)\n",
    "credit.head()"
   ]
  },
  {
   "cell_type": "code",
   "execution_count": 12,
   "metadata": {},
   "outputs": [],
   "source": [
    "#Since the target is to default next month, we set our predictor variables to include all columns except target\n",
    "X = credit.drop(['default_payment_next_month', 'id', 'age_cat'], axis = 1)\n",
    "y = credit['default_payment_next_month']"
   ]
  },
  {
   "cell_type": "code",
   "execution_count": 13,
   "metadata": {},
   "outputs": [
    {
     "data": {
      "text/html": [
       "<div>\n",
       "<style scoped>\n",
       "    .dataframe tbody tr th:only-of-type {\n",
       "        vertical-align: middle;\n",
       "    }\n",
       "\n",
       "    .dataframe tbody tr th {\n",
       "        vertical-align: top;\n",
       "    }\n",
       "\n",
       "    .dataframe thead th {\n",
       "        text-align: right;\n",
       "    }\n",
       "</style>\n",
       "<table border=\"1\" class=\"dataframe\">\n",
       "  <thead>\n",
       "    <tr style=\"text-align: right;\">\n",
       "      <th></th>\n",
       "      <th>limit_bal</th>\n",
       "      <th>age</th>\n",
       "      <th>limit_used_sep</th>\n",
       "      <th>score_3mo</th>\n",
       "      <th>score_6mo</th>\n",
       "      <th>bill_amt_sep</th>\n",
       "      <th>bill_amt_aug</th>\n",
       "      <th>bill_amt_jul</th>\n",
       "      <th>bill_amt_jun</th>\n",
       "      <th>bill_amt_may</th>\n",
       "      <th>bill_amt_apr</th>\n",
       "      <th>pay_amt_sep</th>\n",
       "      <th>pay_amt_aug</th>\n",
       "      <th>pay_amt_jul</th>\n",
       "      <th>pay_amt_jun</th>\n",
       "      <th>pay_amt_may</th>\n",
       "      <th>pay_amt_apr</th>\n",
       "      <th>sex</th>\n",
       "      <th>education</th>\n",
       "      <th>marital_status</th>\n",
       "      <th>pay_sep</th>\n",
       "      <th>pay_aug</th>\n",
       "      <th>pay_jul</th>\n",
       "      <th>pay_jun</th>\n",
       "      <th>pay_may</th>\n",
       "      <th>pay_apr</th>\n",
       "      <th>pay_mode3</th>\n",
       "      <th>pay_mode3_cat</th>\n",
       "      <th>pay_sep_cat</th>\n",
       "      <th>pay_aug_cat</th>\n",
       "      <th>pay_jul_cat</th>\n",
       "      <th>pay_jun_cat</th>\n",
       "      <th>pay_may_cat</th>\n",
       "      <th>pay_apr_cat</th>\n",
       "    </tr>\n",
       "  </thead>\n",
       "  <tbody>\n",
       "    <tr>\n",
       "      <td>0</td>\n",
       "      <td>0.018519</td>\n",
       "      <td>0.071429</td>\n",
       "      <td>0.226551</td>\n",
       "      <td>0.600000</td>\n",
       "      <td>0.357143</td>\n",
       "      <td>0.054856</td>\n",
       "      <td>0.220041</td>\n",
       "      <td>0.156710</td>\n",
       "      <td>0.177262</td>\n",
       "      <td>0.192761</td>\n",
       "      <td>0.303271</td>\n",
       "      <td>0.000000</td>\n",
       "      <td>0.009241</td>\n",
       "      <td>0.000000</td>\n",
       "      <td>0.000000</td>\n",
       "      <td>0.000000</td>\n",
       "      <td>0.000000</td>\n",
       "      <td>1.0</td>\n",
       "      <td>0.333333</td>\n",
       "      <td>0.0</td>\n",
       "      <td>0.666667</td>\n",
       "      <td>0.571429</td>\n",
       "      <td>0.142857</td>\n",
       "      <td>0.142857</td>\n",
       "      <td>0.000000</td>\n",
       "      <td>0.00</td>\n",
       "      <td>0.666667</td>\n",
       "      <td>1.0</td>\n",
       "      <td>1.0</td>\n",
       "      <td>1.0</td>\n",
       "      <td>0.0</td>\n",
       "      <td>0.0</td>\n",
       "      <td>0.0</td>\n",
       "      <td>0.0</td>\n",
       "    </tr>\n",
       "    <tr>\n",
       "      <td>1</td>\n",
       "      <td>0.203704</td>\n",
       "      <td>0.119048</td>\n",
       "      <td>0.134507</td>\n",
       "      <td>0.466667</td>\n",
       "      <td>0.535714</td>\n",
       "      <td>0.050487</td>\n",
       "      <td>0.215883</td>\n",
       "      <td>0.163382</td>\n",
       "      <td>0.188720</td>\n",
       "      <td>0.205325</td>\n",
       "      <td>0.313722</td>\n",
       "      <td>0.000000</td>\n",
       "      <td>0.013412</td>\n",
       "      <td>0.017265</td>\n",
       "      <td>0.019305</td>\n",
       "      <td>0.000000</td>\n",
       "      <td>0.034483</td>\n",
       "      <td>1.0</td>\n",
       "      <td>0.333333</td>\n",
       "      <td>0.5</td>\n",
       "      <td>0.166667</td>\n",
       "      <td>0.571429</td>\n",
       "      <td>0.285714</td>\n",
       "      <td>0.285714</td>\n",
       "      <td>0.222222</td>\n",
       "      <td>0.50</td>\n",
       "      <td>0.166667</td>\n",
       "      <td>0.0</td>\n",
       "      <td>0.0</td>\n",
       "      <td>1.0</td>\n",
       "      <td>0.5</td>\n",
       "      <td>0.5</td>\n",
       "      <td>0.5</td>\n",
       "      <td>1.0</td>\n",
       "    </tr>\n",
       "    <tr>\n",
       "      <td>2</td>\n",
       "      <td>0.148148</td>\n",
       "      <td>0.309524</td>\n",
       "      <td>0.295187</td>\n",
       "      <td>0.400000</td>\n",
       "      <td>0.428571</td>\n",
       "      <td>0.144730</td>\n",
       "      <td>0.253026</td>\n",
       "      <td>0.199791</td>\n",
       "      <td>0.227450</td>\n",
       "      <td>0.247120</td>\n",
       "      <td>0.353105</td>\n",
       "      <td>0.027455</td>\n",
       "      <td>0.020118</td>\n",
       "      <td>0.017265</td>\n",
       "      <td>0.019305</td>\n",
       "      <td>0.019945</td>\n",
       "      <td>0.086207</td>\n",
       "      <td>1.0</td>\n",
       "      <td>0.333333</td>\n",
       "      <td>0.5</td>\n",
       "      <td>0.333333</td>\n",
       "      <td>0.285714</td>\n",
       "      <td>0.285714</td>\n",
       "      <td>0.285714</td>\n",
       "      <td>0.222222</td>\n",
       "      <td>0.25</td>\n",
       "      <td>0.333333</td>\n",
       "      <td>0.5</td>\n",
       "      <td>0.5</td>\n",
       "      <td>0.5</td>\n",
       "      <td>0.5</td>\n",
       "      <td>0.5</td>\n",
       "      <td>0.5</td>\n",
       "      <td>0.5</td>\n",
       "    </tr>\n",
       "    <tr>\n",
       "      <td>3</td>\n",
       "      <td>0.074074</td>\n",
       "      <td>0.380952</td>\n",
       "      <td>0.621787</td>\n",
       "      <td>0.400000</td>\n",
       "      <td>0.428571</td>\n",
       "      <td>0.207723</td>\n",
       "      <td>0.356303</td>\n",
       "      <td>0.319399</td>\n",
       "      <td>0.276420</td>\n",
       "      <td>0.298071</td>\n",
       "      <td>0.397968</td>\n",
       "      <td>0.036172</td>\n",
       "      <td>0.027079</td>\n",
       "      <td>0.020718</td>\n",
       "      <td>0.021236</td>\n",
       "      <td>0.021322</td>\n",
       "      <td>0.017241</td>\n",
       "      <td>1.0</td>\n",
       "      <td>0.333333</td>\n",
       "      <td>0.0</td>\n",
       "      <td>0.333333</td>\n",
       "      <td>0.285714</td>\n",
       "      <td>0.285714</td>\n",
       "      <td>0.285714</td>\n",
       "      <td>0.222222</td>\n",
       "      <td>0.25</td>\n",
       "      <td>0.333333</td>\n",
       "      <td>0.5</td>\n",
       "      <td>0.5</td>\n",
       "      <td>0.5</td>\n",
       "      <td>0.5</td>\n",
       "      <td>0.5</td>\n",
       "      <td>0.5</td>\n",
       "      <td>0.5</td>\n",
       "    </tr>\n",
       "    <tr>\n",
       "      <td>4</td>\n",
       "      <td>0.074074</td>\n",
       "      <td>0.857143</td>\n",
       "      <td>0.214170</td>\n",
       "      <td>0.266667</td>\n",
       "      <td>0.357143</td>\n",
       "      <td>0.071549</td>\n",
       "      <td>0.227794</td>\n",
       "      <td>0.274357</td>\n",
       "      <td>0.250595</td>\n",
       "      <td>0.262386</td>\n",
       "      <td>0.364585</td>\n",
       "      <td>0.036172</td>\n",
       "      <td>0.491973</td>\n",
       "      <td>0.172652</td>\n",
       "      <td>0.173745</td>\n",
       "      <td>0.013742</td>\n",
       "      <td>0.011707</td>\n",
       "      <td>0.0</td>\n",
       "      <td>0.333333</td>\n",
       "      <td>0.0</td>\n",
       "      <td>0.166667</td>\n",
       "      <td>0.285714</td>\n",
       "      <td>0.142857</td>\n",
       "      <td>0.285714</td>\n",
       "      <td>0.222222</td>\n",
       "      <td>0.25</td>\n",
       "      <td>0.166667</td>\n",
       "      <td>0.0</td>\n",
       "      <td>0.0</td>\n",
       "      <td>0.5</td>\n",
       "      <td>0.0</td>\n",
       "      <td>0.5</td>\n",
       "      <td>0.5</td>\n",
       "      <td>0.5</td>\n",
       "    </tr>\n",
       "  </tbody>\n",
       "</table>\n",
       "</div>"
      ],
      "text/plain": [
       "   limit_bal       age  limit_used_sep  score_3mo  score_6mo  bill_amt_sep  \\\n",
       "0   0.018519  0.071429        0.226551   0.600000   0.357143      0.054856   \n",
       "1   0.203704  0.119048        0.134507   0.466667   0.535714      0.050487   \n",
       "2   0.148148  0.309524        0.295187   0.400000   0.428571      0.144730   \n",
       "3   0.074074  0.380952        0.621787   0.400000   0.428571      0.207723   \n",
       "4   0.074074  0.857143        0.214170   0.266667   0.357143      0.071549   \n",
       "\n",
       "   bill_amt_aug  bill_amt_jul  bill_amt_jun  bill_amt_may  bill_amt_apr  \\\n",
       "0      0.220041      0.156710      0.177262      0.192761      0.303271   \n",
       "1      0.215883      0.163382      0.188720      0.205325      0.313722   \n",
       "2      0.253026      0.199791      0.227450      0.247120      0.353105   \n",
       "3      0.356303      0.319399      0.276420      0.298071      0.397968   \n",
       "4      0.227794      0.274357      0.250595      0.262386      0.364585   \n",
       "\n",
       "   pay_amt_sep  pay_amt_aug  pay_amt_jul  pay_amt_jun  pay_amt_may  \\\n",
       "0     0.000000     0.009241     0.000000     0.000000     0.000000   \n",
       "1     0.000000     0.013412     0.017265     0.019305     0.000000   \n",
       "2     0.027455     0.020118     0.017265     0.019305     0.019945   \n",
       "3     0.036172     0.027079     0.020718     0.021236     0.021322   \n",
       "4     0.036172     0.491973     0.172652     0.173745     0.013742   \n",
       "\n",
       "   pay_amt_apr  sex  education  marital_status   pay_sep   pay_aug   pay_jul  \\\n",
       "0     0.000000  1.0   0.333333             0.0  0.666667  0.571429  0.142857   \n",
       "1     0.034483  1.0   0.333333             0.5  0.166667  0.571429  0.285714   \n",
       "2     0.086207  1.0   0.333333             0.5  0.333333  0.285714  0.285714   \n",
       "3     0.017241  1.0   0.333333             0.0  0.333333  0.285714  0.285714   \n",
       "4     0.011707  0.0   0.333333             0.0  0.166667  0.285714  0.142857   \n",
       "\n",
       "    pay_jun   pay_may  pay_apr  pay_mode3  pay_mode3_cat  pay_sep_cat  \\\n",
       "0  0.142857  0.000000     0.00   0.666667            1.0          1.0   \n",
       "1  0.285714  0.222222     0.50   0.166667            0.0          0.0   \n",
       "2  0.285714  0.222222     0.25   0.333333            0.5          0.5   \n",
       "3  0.285714  0.222222     0.25   0.333333            0.5          0.5   \n",
       "4  0.285714  0.222222     0.25   0.166667            0.0          0.0   \n",
       "\n",
       "   pay_aug_cat  pay_jul_cat  pay_jun_cat  pay_may_cat  pay_apr_cat  \n",
       "0          1.0          0.0          0.0          0.0          0.0  \n",
       "1          1.0          0.5          0.5          0.5          1.0  \n",
       "2          0.5          0.5          0.5          0.5          0.5  \n",
       "3          0.5          0.5          0.5          0.5          0.5  \n",
       "4          0.5          0.0          0.5          0.5          0.5  "
      ]
     },
     "execution_count": 13,
     "metadata": {},
     "output_type": "execute_result"
    }
   ],
   "source": [
    "#normalising the data\n",
    "X = X.apply(lambda x : (x - x.min()) /(x.max() - x.min()),axis=0)\n",
    "X.head()"
   ]
  },
  {
   "cell_type": "code",
   "execution_count": 14,
   "metadata": {},
   "outputs": [],
   "source": [
    "#The first step is to split our data into training and testing using an 80-20 train-test split \n",
    "X_train, X_test, y_train, y_test = train_test_split(X, y, test_size = 0.20, random_state=42)"
   ]
  },
  {
   "cell_type": "markdown",
   "metadata": {},
   "source": [
    "# EDA"
   ]
  },
  {
   "cell_type": "code",
   "execution_count": 18,
   "metadata": {},
   "outputs": [
    {
     "data": {
      "text/html": [
       "<div>\n",
       "<style scoped>\n",
       "    .dataframe tbody tr th:only-of-type {\n",
       "        vertical-align: middle;\n",
       "    }\n",
       "\n",
       "    .dataframe tbody tr th {\n",
       "        vertical-align: top;\n",
       "    }\n",
       "\n",
       "    .dataframe thead th {\n",
       "        text-align: right;\n",
       "    }\n",
       "</style>\n",
       "<table border=\"1\" class=\"dataframe\">\n",
       "  <thead>\n",
       "    <tr style=\"text-align: right;\">\n",
       "      <th></th>\n",
       "      <th>default_payment_next_month</th>\n",
       "      <th>limit_bal</th>\n",
       "      <th>age</th>\n",
       "      <th>limit_used_sep</th>\n",
       "      <th>score_3mo</th>\n",
       "      <th>score_6mo</th>\n",
       "      <th>bill_amt_sep</th>\n",
       "      <th>bill_amt_aug</th>\n",
       "      <th>bill_amt_jul</th>\n",
       "      <th>bill_amt_jun</th>\n",
       "      <th>bill_amt_may</th>\n",
       "      <th>bill_amt_apr</th>\n",
       "      <th>pay_amt_sep</th>\n",
       "      <th>pay_amt_aug</th>\n",
       "      <th>pay_amt_jul</th>\n",
       "      <th>pay_amt_jun</th>\n",
       "      <th>pay_amt_may</th>\n",
       "      <th>pay_amt_apr</th>\n",
       "      <th>id</th>\n",
       "      <th>sex</th>\n",
       "      <th>education</th>\n",
       "      <th>marital_status</th>\n",
       "      <th>pay_sep</th>\n",
       "      <th>pay_aug</th>\n",
       "      <th>pay_jul</th>\n",
       "      <th>pay_jun</th>\n",
       "      <th>pay_may</th>\n",
       "      <th>pay_apr</th>\n",
       "      <th>pay_mode3</th>\n",
       "      <th>pay_mode3_cat</th>\n",
       "      <th>pay_sep_cat</th>\n",
       "      <th>pay_aug_cat</th>\n",
       "      <th>pay_jul_cat</th>\n",
       "      <th>pay_jun_cat</th>\n",
       "      <th>pay_may_cat</th>\n",
       "      <th>pay_apr_cat</th>\n",
       "      <th>age_cat</th>\n",
       "    </tr>\n",
       "  </thead>\n",
       "  <tbody>\n",
       "    <tr>\n",
       "      <td>0</td>\n",
       "      <td>1</td>\n",
       "      <td>20000</td>\n",
       "      <td>24</td>\n",
       "      <td>0.195650</td>\n",
       "      <td>3</td>\n",
       "      <td>-2</td>\n",
       "      <td>3913</td>\n",
       "      <td>3102</td>\n",
       "      <td>689</td>\n",
       "      <td>0</td>\n",
       "      <td>0</td>\n",
       "      <td>0</td>\n",
       "      <td>0</td>\n",
       "      <td>689</td>\n",
       "      <td>0</td>\n",
       "      <td>0</td>\n",
       "      <td>0</td>\n",
       "      <td>0</td>\n",
       "      <td>1</td>\n",
       "      <td>2</td>\n",
       "      <td>2</td>\n",
       "      <td>1</td>\n",
       "      <td>2</td>\n",
       "      <td>2</td>\n",
       "      <td>-1</td>\n",
       "      <td>-1</td>\n",
       "      <td>-2</td>\n",
       "      <td>-2</td>\n",
       "      <td>2</td>\n",
       "      <td>1</td>\n",
       "      <td>1</td>\n",
       "      <td>1</td>\n",
       "      <td>-1</td>\n",
       "      <td>-1</td>\n",
       "      <td>-1</td>\n",
       "      <td>-1</td>\n",
       "      <td>20-29</td>\n",
       "    </tr>\n",
       "    <tr>\n",
       "      <td>1</td>\n",
       "      <td>1</td>\n",
       "      <td>120000</td>\n",
       "      <td>26</td>\n",
       "      <td>0.022350</td>\n",
       "      <td>1</td>\n",
       "      <td>3</td>\n",
       "      <td>2682</td>\n",
       "      <td>1725</td>\n",
       "      <td>2682</td>\n",
       "      <td>3272</td>\n",
       "      <td>3455</td>\n",
       "      <td>3261</td>\n",
       "      <td>0</td>\n",
       "      <td>1000</td>\n",
       "      <td>1000</td>\n",
       "      <td>1000</td>\n",
       "      <td>0</td>\n",
       "      <td>2000</td>\n",
       "      <td>2</td>\n",
       "      <td>2</td>\n",
       "      <td>2</td>\n",
       "      <td>2</td>\n",
       "      <td>-1</td>\n",
       "      <td>2</td>\n",
       "      <td>0</td>\n",
       "      <td>0</td>\n",
       "      <td>0</td>\n",
       "      <td>2</td>\n",
       "      <td>-1</td>\n",
       "      <td>-1</td>\n",
       "      <td>-1</td>\n",
       "      <td>1</td>\n",
       "      <td>0</td>\n",
       "      <td>0</td>\n",
       "      <td>0</td>\n",
       "      <td>1</td>\n",
       "      <td>20-29</td>\n",
       "    </tr>\n",
       "    <tr>\n",
       "      <td>11</td>\n",
       "      <td>1</td>\n",
       "      <td>70000</td>\n",
       "      <td>30</td>\n",
       "      <td>0.940029</td>\n",
       "      <td>5</td>\n",
       "      <td>7</td>\n",
       "      <td>65802</td>\n",
       "      <td>67369</td>\n",
       "      <td>65701</td>\n",
       "      <td>66782</td>\n",
       "      <td>36137</td>\n",
       "      <td>36894</td>\n",
       "      <td>3200</td>\n",
       "      <td>0</td>\n",
       "      <td>3000</td>\n",
       "      <td>3000</td>\n",
       "      <td>1500</td>\n",
       "      <td>0</td>\n",
       "      <td>14</td>\n",
       "      <td>1</td>\n",
       "      <td>2</td>\n",
       "      <td>2</td>\n",
       "      <td>1</td>\n",
       "      <td>2</td>\n",
       "      <td>2</td>\n",
       "      <td>0</td>\n",
       "      <td>0</td>\n",
       "      <td>2</td>\n",
       "      <td>2</td>\n",
       "      <td>1</td>\n",
       "      <td>1</td>\n",
       "      <td>1</td>\n",
       "      <td>1</td>\n",
       "      <td>0</td>\n",
       "      <td>0</td>\n",
       "      <td>1</td>\n",
       "      <td>30-39</td>\n",
       "    </tr>\n",
       "    <tr>\n",
       "      <td>14</td>\n",
       "      <td>1</td>\n",
       "      <td>20000</td>\n",
       "      <td>24</td>\n",
       "      <td>0.768800</td>\n",
       "      <td>2</td>\n",
       "      <td>8</td>\n",
       "      <td>15376</td>\n",
       "      <td>18010</td>\n",
       "      <td>17428</td>\n",
       "      <td>18338</td>\n",
       "      <td>17905</td>\n",
       "      <td>19104</td>\n",
       "      <td>3200</td>\n",
       "      <td>0</td>\n",
       "      <td>1500</td>\n",
       "      <td>0</td>\n",
       "      <td>1650</td>\n",
       "      <td>0</td>\n",
       "      <td>17</td>\n",
       "      <td>1</td>\n",
       "      <td>1</td>\n",
       "      <td>2</td>\n",
       "      <td>0</td>\n",
       "      <td>0</td>\n",
       "      <td>2</td>\n",
       "      <td>2</td>\n",
       "      <td>2</td>\n",
       "      <td>2</td>\n",
       "      <td>0</td>\n",
       "      <td>0</td>\n",
       "      <td>0</td>\n",
       "      <td>0</td>\n",
       "      <td>1</td>\n",
       "      <td>1</td>\n",
       "      <td>1</td>\n",
       "      <td>1</td>\n",
       "      <td>20-29</td>\n",
       "    </tr>\n",
       "    <tr>\n",
       "      <td>18</td>\n",
       "      <td>1</td>\n",
       "      <td>120000</td>\n",
       "      <td>39</td>\n",
       "      <td>0.002633</td>\n",
       "      <td>-3</td>\n",
       "      <td>-6</td>\n",
       "      <td>316</td>\n",
       "      <td>316</td>\n",
       "      <td>316</td>\n",
       "      <td>0</td>\n",
       "      <td>632</td>\n",
       "      <td>316</td>\n",
       "      <td>316</td>\n",
       "      <td>316</td>\n",
       "      <td>0</td>\n",
       "      <td>632</td>\n",
       "      <td>316</td>\n",
       "      <td>0</td>\n",
       "      <td>22</td>\n",
       "      <td>2</td>\n",
       "      <td>2</td>\n",
       "      <td>1</td>\n",
       "      <td>-1</td>\n",
       "      <td>-1</td>\n",
       "      <td>-1</td>\n",
       "      <td>-1</td>\n",
       "      <td>-1</td>\n",
       "      <td>-1</td>\n",
       "      <td>-1</td>\n",
       "      <td>-1</td>\n",
       "      <td>-1</td>\n",
       "      <td>-1</td>\n",
       "      <td>-1</td>\n",
       "      <td>-1</td>\n",
       "      <td>-1</td>\n",
       "      <td>-1</td>\n",
       "      <td>30-39</td>\n",
       "    </tr>\n",
       "  </tbody>\n",
       "</table>\n",
       "</div>"
      ],
      "text/plain": [
       "    default_payment_next_month  limit_bal  age  limit_used_sep  score_3mo  \\\n",
       "0                            1      20000   24        0.195650          3   \n",
       "1                            1     120000   26        0.022350          1   \n",
       "11                           1      70000   30        0.940029          5   \n",
       "14                           1      20000   24        0.768800          2   \n",
       "18                           1     120000   39        0.002633         -3   \n",
       "\n",
       "    score_6mo  bill_amt_sep  bill_amt_aug  bill_amt_jul  bill_amt_jun  \\\n",
       "0          -2          3913          3102           689             0   \n",
       "1           3          2682          1725          2682          3272   \n",
       "11          7         65802         67369         65701         66782   \n",
       "14          8         15376         18010         17428         18338   \n",
       "18         -6           316           316           316             0   \n",
       "\n",
       "    bill_amt_may  bill_amt_apr  pay_amt_sep  pay_amt_aug  pay_amt_jul  \\\n",
       "0              0             0            0          689            0   \n",
       "1           3455          3261            0         1000         1000   \n",
       "11         36137         36894         3200            0         3000   \n",
       "14         17905         19104         3200            0         1500   \n",
       "18           632           316          316          316            0   \n",
       "\n",
       "    pay_amt_jun  pay_amt_may  pay_amt_apr  id  sex  education  marital_status  \\\n",
       "0             0            0            0   1    2          2               1   \n",
       "1          1000            0         2000   2    2          2               2   \n",
       "11         3000         1500            0  14    1          2               2   \n",
       "14            0         1650            0  17    1          1               2   \n",
       "18          632          316            0  22    2          2               1   \n",
       "\n",
       "    pay_sep  pay_aug  pay_jul  pay_jun  pay_may  pay_apr  pay_mode3  \\\n",
       "0         2        2       -1       -1       -2       -2          2   \n",
       "1        -1        2        0        0        0        2         -1   \n",
       "11        1        2        2        0        0        2          2   \n",
       "14        0        0        2        2        2        2          0   \n",
       "18       -1       -1       -1       -1       -1       -1         -1   \n",
       "\n",
       "    pay_mode3_cat  pay_sep_cat  pay_aug_cat  pay_jul_cat  pay_jun_cat  \\\n",
       "0               1            1            1           -1           -1   \n",
       "1              -1           -1            1            0            0   \n",
       "11              1            1            1            1            0   \n",
       "14              0            0            0            1            1   \n",
       "18             -1           -1           -1           -1           -1   \n",
       "\n",
       "    pay_may_cat  pay_apr_cat age_cat  \n",
       "0            -1           -1   20-29  \n",
       "1             0            1   20-29  \n",
       "11            0            1   30-39  \n",
       "14            1            1   20-29  \n",
       "18           -1           -1   30-39  "
      ]
     },
     "execution_count": 18,
     "metadata": {},
     "output_type": "execute_result"
    }
   ],
   "source": [
    "credit_default = credit.loc[credit['default_payment_next_month'] == 1]\n",
    "pd.set_option('display.max_columns', 999)\n",
    "credit_default.head()"
   ]
  },
  {
   "cell_type": "code",
   "execution_count": 20,
   "metadata": {},
   "outputs": [
    {
     "data": {
      "image/png": "[encoded data removed]",
      "text/plain": [
       "<Figure size 432x288 with 1 Axes>"
      ]
     },
     "metadata": {
      "needs_background": "light"
     },
     "output_type": "display_data"
    }
   ],
   "source": [
    "ax = sns.boxplot(x='pay_sep', y='limit_bal', hue = 'sex', data = credit_default)"
   ]
  },
  {
   "cell_type": "code",
   "execution_count": 22,
   "metadata": {},
   "outputs": [
    {
     "data": {
      "text/plain": [
       "<seaborn.axisgrid.FacetGrid at 0x1a214b3a50>"
      ]
     },
     "execution_count": 22,
     "metadata": {},
     "output_type": "execute_result"
    },
    {
     "data": {
      "image/png": "[encoded data removed]",
      "text/plain": [
       "<Figure size 402.375x360 with 1 Axes>"
      ]
     },
     "metadata": {
      "needs_background": "light"
     },
     "output_type": "display_data"
    }
   ],
   "source": [
    "sns.catplot(x=\"age_cat\", y=\"score_3mo\", hue=\"sex\", kind=\"box\", data=credit_default)"
   ]
  },
  {
   "cell_type": "code",
   "execution_count": 24,
   "metadata": {},
   "outputs": [
    {
     "data": {
      "text/plain": [
       "<seaborn.axisgrid.FacetGrid at 0x1a238e1f90>"
      ]
     },
     "execution_count": 24,
     "metadata": {},
     "output_type": "execute_result"
    },
    {
     "data": {
      "image/png": "[encoded data removed]",
      "text/plain": [
       "<Figure size 402.375x360 with 1 Axes>"
      ]
     },
     "metadata": {
      "needs_background": "light"
     },
     "output_type": "display_data"
    }
   ],
   "source": [
    "sns.catplot(x=\"education\", y=\"score_3mo\", hue=\"sex\", kind=\"box\", data=credit_default)"
   ]
  },
  {
   "cell_type": "code",
   "execution_count": 25,
   "metadata": {},
   "outputs": [
    {
     "data": {
      "text/plain": [
       "<seaborn.axisgrid.FacetGrid at 0x1a22374410>"
      ]
     },
     "execution_count": 25,
     "metadata": {},
     "output_type": "execute_result"
    },
    {
     "data": {
      "image/png": "[encoded data removed]",
      "text/plain": [
       "<Figure size 402.375x360 with 1 Axes>"
      ]
     },
     "metadata": {
      "needs_background": "light"
     },
     "output_type": "display_data"
    }
   ],
   "source": [
    "sns.catplot(x=\"marital_status\", y=\"score_6mo\", hue=\"sex\", kind=\"box\", data=credit_default)"
   ]
  },
  {
   "cell_type": "code",
   "execution_count": 26,
   "metadata": {},
   "outputs": [
    {
     "data": {
      "text/plain": [
       "<seaborn.axisgrid.FacetGrid at 0x1a22297090>"
      ]
     },
     "execution_count": 26,
     "metadata": {},
     "output_type": "execute_result"
    },
    {
     "data": {
      "image/png": "[encoded data removed]",
      "text/plain": [
       "<Figure size 402.375x360 with 1 Axes>"
      ]
     },
     "metadata": {
      "needs_background": "light"
     },
     "output_type": "display_data"
    }
   ],
   "source": [
    "sns.catplot(x=\"age_cat\", y=\"score_6mo\", hue=\"sex\", kind=\"box\", data=credit_default)"
   ]
  },
  {
   "cell_type": "markdown",
   "metadata": {},
   "source": [
    "# Classifiers - Decision Tree"
   ]
  },
  {
   "cell_type": "code",
   "execution_count": 27,
   "metadata": {},
   "outputs": [
    {
     "name": "stdout",
     "output_type": "stream",
     "text": [
      "[(0, 20424), (1, 20424)]\n"
     ]
    }
   ],
   "source": [
    "#since our classes are imbalanced i.e. we have more non-defaulters, compared to defaulters, we have to res\n",
    "#resample to balance the two. \n",
    "from imblearn.over_sampling import SMOTE\n",
    "\n",
    "# applying SMOTE to our data and checking the class counts\n",
    "X_resampled, y_resampled = SMOTE().fit_resample(X, y)\n",
    "print(sorted(Counter(y_resampled).items()))"
   ]
  },
  {
   "cell_type": "code",
   "execution_count": 28,
   "metadata": {},
   "outputs": [],
   "source": [
    "#Creating an instance of a decision tree classifier with random state = 10 for reproducibility\n",
    "#Instantiate and fit the training data to the classifier\n",
    "\n",
    "tree_clf = DecisionTreeClassifier(criterion='entropy', max_depth=5, random_state=10) "
   ]
  },
  {
   "cell_type": "code",
   "execution_count": 29,
   "metadata": {},
   "outputs": [
    {
     "data": {
      "text/plain": [
       "DecisionTreeClassifier(ccp_alpha=0.0, class_weight=None, criterion='entropy',\n",
       "                       max_depth=5, max_features=None, max_leaf_nodes=None,\n",
       "                       min_impurity_decrease=0.0, min_impurity_split=None,\n",
       "                       min_samples_leaf=1, min_samples_split=2,\n",
       "                       min_weight_fraction_leaf=0.0, presort='deprecated',\n",
       "                       random_state=10, splitter='best')"
      ]
     },
     "execution_count": 29,
     "metadata": {},
     "output_type": "execute_result"
    }
   ],
   "source": [
    "#train decision tree classifier\n",
    "\n",
    "tree_clf.fit(X_train, y_train)"
   ]
  },
  {
   "cell_type": "code",
   "execution_count": 30,
   "metadata": {},
   "outputs": [
    {
     "data": {
      "text/plain": [
       "array([0, 0, 0, ..., 0, 0, 0])"
      ]
     },
     "execution_count": 30,
     "metadata": {},
     "output_type": "execute_result"
    }
   ],
   "source": [
    "#predict the response for test dataset\n",
    "\n",
    "predict_proba = tree_clf.predict(X_test)\n",
    "predict_proba"
   ]
  },
  {
   "cell_type": "code",
   "execution_count": 31,
   "metadata": {},
   "outputs": [
    {
     "data": {
      "text/plain": [
       "array([0.04056114, 0.00206117, 0.02495652, 0.64425686, 0.0177093 ,\n",
       "       0.03780109, 0.        , 0.        , 0.        , 0.        ,\n",
       "       0.        , 0.01027608, 0.        , 0.07325915, 0.00463111,\n",
       "       0.00494303, 0.00503726, 0.        , 0.        , 0.00232731,\n",
       "       0.11633426, 0.        , 0.        , 0.00740557, 0.        ,\n",
       "       0.        , 0.        , 0.        , 0.        , 0.        ,\n",
       "       0.        , 0.        , 0.00844016, 0.        ])"
      ]
     },
     "execution_count": 31,
     "metadata": {},
     "output_type": "execute_result"
    }
   ],
   "source": [
    "#Checking feature importance\n",
    "tree_clf.feature_importances_"
   ]
  },
  {
   "cell_type": "code",
   "execution_count": 32,
   "metadata": {},
   "outputs": [
    {
     "data": {
      "image/png": "[encoded data removed]",
      "text/plain": [
       "<Figure size 576x576 with 1 Axes>"
      ]
     },
     "metadata": {
      "needs_background": "light"
     },
     "output_type": "display_data"
    }
   ],
   "source": [
    "def plot_feature_importances(model):\n",
    "    n_features = X_train.shape[1]\n",
    "    plt.figure(figsize=(8,8))\n",
    "    plt.barh(range(n_features), model.feature_importances_, align='center') \n",
    "    plt.yticks(np.arange(n_features), X_train.columns.values) \n",
    "    plt.xlabel('Feature importance')\n",
    "    plt.ylabel('Feature')\n",
    "\n",
    "plot_feature_importances(tree_clf)"
   ]
  },
  {
   "cell_type": "code",
   "execution_count": 33,
   "metadata": {},
   "outputs": [
    {
     "name": "stdout",
     "output_type": "stream",
     "text": [
      "              precision    recall  f1-score   support\n",
      "\n",
      "           0       0.84      0.95      0.89      4106\n",
      "           1       0.67      0.38      0.49      1181\n",
      "\n",
      "    accuracy                           0.82      5287\n",
      "   macro avg       0.75      0.66      0.69      5287\n",
      "weighted avg       0.80      0.82      0.80      5287\n",
      "\n"
     ]
    }
   ],
   "source": [
    "#creating classification report \n",
    "print(classification_report(y_test, predict_proba))"
   ]
  },
  {
   "cell_type": "code",
   "execution_count": 34,
   "metadata": {},
   "outputs": [
    {
     "name": "stdout",
     "output_type": "stream",
     "text": [
      "\n",
      "Confusion Matrix\n",
      "----------------\n"
     ]
    },
    {
     "data": {
      "text/html": [
       "<div>\n",
       "<style scoped>\n",
       "    .dataframe tbody tr th:only-of-type {\n",
       "        vertical-align: middle;\n",
       "    }\n",
       "\n",
       "    .dataframe tbody tr th {\n",
       "        vertical-align: top;\n",
       "    }\n",
       "\n",
       "    .dataframe thead th {\n",
       "        text-align: right;\n",
       "    }\n",
       "</style>\n",
       "<table border=\"1\" class=\"dataframe\">\n",
       "  <thead>\n",
       "    <tr style=\"text-align: right;\">\n",
       "      <th>Predicted</th>\n",
       "      <th>0</th>\n",
       "      <th>1</th>\n",
       "      <th>All</th>\n",
       "    </tr>\n",
       "    <tr>\n",
       "      <th>True</th>\n",
       "      <th></th>\n",
       "      <th></th>\n",
       "      <th></th>\n",
       "    </tr>\n",
       "  </thead>\n",
       "  <tbody>\n",
       "    <tr>\n",
       "      <td>0</td>\n",
       "      <td>3882</td>\n",
       "      <td>224</td>\n",
       "      <td>4106</td>\n",
       "    </tr>\n",
       "    <tr>\n",
       "      <td>1</td>\n",
       "      <td>730</td>\n",
       "      <td>451</td>\n",
       "      <td>1181</td>\n",
       "    </tr>\n",
       "    <tr>\n",
       "      <td>All</td>\n",
       "      <td>4612</td>\n",
       "      <td>675</td>\n",
       "      <td>5287</td>\n",
       "    </tr>\n",
       "  </tbody>\n",
       "</table>\n",
       "</div>"
      ],
      "text/plain": [
       "Predicted     0    1   All\n",
       "True                      \n",
       "0          3882  224  4106\n",
       "1           730  451  1181\n",
       "All        4612  675  5287"
      ]
     },
     "execution_count": 34,
     "metadata": {},
     "output_type": "execute_result"
    }
   ],
   "source": [
    "#create and print a confusion matrix\n",
    "\n",
    "print('\\nConfusion Matrix')\n",
    "print('----------------')\n",
    "pd.crosstab(y_test, predict_proba, rownames=['True'], colnames=['Predicted'], margins=True)"
   ]
  },
  {
   "cell_type": "code",
   "execution_count": 36,
   "metadata": {},
   "outputs": [
    {
     "name": "stdout",
     "output_type": "stream",
     "text": [
      "Accuracy is :81.95574049555515\n"
     ]
    }
   ],
   "source": [
    "#checking predictive performance\n",
    "\n",
    "acc = accuracy_score(y_test, predict_proba)*100\n",
    "print('Accuracy is :{0}'.format(acc))"
   ]
  },
  {
   "cell_type": "code",
   "execution_count": 37,
   "metadata": {},
   "outputs": [
    {
     "name": "stdout",
     "output_type": "stream",
     "text": [
      "\n",
      "AUC is :0.66\n"
     ]
    }
   ],
   "source": [
    "#checking auc for predictions\n",
    "\n",
    "false_positive_rate, true_positive_rate, thresholds = roc_curve(y_test, predict_proba)\n",
    "roc_auc = auc(false_positive_rate, true_positive_rate)\n",
    "print('\\nAUC is :{0}'.format(round(roc_auc, 2)))"
   ]
  },
  {
   "cell_type": "code",
   "execution_count": 44,
   "metadata": {},
   "outputs": [
    {
     "name": "stdout",
     "output_type": "stream",
     "text": [
      "[0.2233781  0.66814815 1.        ] [1.         0.38187976 0.        ] [0 1]\n"
     ]
    }
   ],
   "source": [
    "from sklearn.metrics import precision_recall_curve\n",
    "precision, recall, thresholds = precision_recall_curve(y_test, predict_proba)\n",
    "print(precision, recall, thresholds)"
   ]
  },
  {
   "cell_type": "code",
   "execution_count": 45,
   "metadata": {},
   "outputs": [
    {
     "data": {
      "text/plain": [
       "0.4859913793103448"
      ]
     },
     "execution_count": 45,
     "metadata": {},
     "output_type": "execute_result"
    }
   ],
   "source": [
    "from sklearn.metrics import f1_score\n",
    "f1 = f1_score(y_test, predict_proba)\n",
    "f1"
   ]
  },
  {
   "cell_type": "code",
   "execution_count": 46,
   "metadata": {},
   "outputs": [
    {
     "data": {
      "text/plain": [
       "0.5940512167372005"
      ]
     },
     "execution_count": 46,
     "metadata": {},
     "output_type": "execute_result"
    }
   ],
   "source": [
    "#calculating the auc\n",
    "precision_recall_auc = auc(recall, precision)\n",
    "precision_recall_auc"
   ]
  },
  {
   "cell_type": "code",
   "execution_count": 47,
   "metadata": {},
   "outputs": [
    {
     "data": {
      "text/plain": [
       "0.6636627260740257"
      ]
     },
     "execution_count": 47,
     "metadata": {},
     "output_type": "execute_result"
    }
   ],
   "source": [
    "#check the AUC of predictions\n",
    "false_positive_rate, true_positive_rate, thresholds = roc_curve(y_test, predict_proba)\n",
    "roc_auc = auc(false_positive_rate, true_positive_rate)\n",
    "roc_auc"
   ]
  },
  {
   "cell_type": "code",
   "execution_count": 48,
   "metadata": {
    "scrolled": true
   },
   "outputs": [
    {
     "data": {
      "image/png": "[encoded data removed]",
      "text/plain": [
       "<Figure size 432x288 with 1 Axes>"
      ]
     },
     "metadata": {
      "needs_background": "light"
     },
     "output_type": "display_data"
    }
   ],
   "source": [
    "#plot the auc-roc curve \n",
    "\n",
    "from sklearn.metrics import roc_curve\n",
    "import matplotlib.pyplot as plt\n",
    "%matplotlib inline\n",
    "\n",
    "fpr, tpr, thresholds = roc_curve(y_test, predict_proba)\n",
    "# create plot\n",
    "plt.plot(fpr, tpr, label='ROC curve')\n",
    "plt.plot([0, 1], [0, 1], 'k--', label='Random guess')\n",
    "_ = plt.xlabel('False Positive Rate')\n",
    "_ = plt.ylabel('True Positive Rate')\n",
    "_ = plt.title('ROC Curve')\n",
    "_ = plt.xlim([-0.02, 1])\n",
    "_ = plt.ylim([0, 1.02])\n",
    "_ = plt.legend(loc=\"lower right\")"
   ]
  },
  {
   "cell_type": "code",
   "execution_count": 50,
   "metadata": {},
   "outputs": [
    {
     "ename": "NameError",
     "evalue": "name 'average_recall' is not defined",
     "output_type": "error",
     "traceback": [
      "\u001b[0;31m---------------------------------------------------------------------------\u001b[0m",
      "\u001b[0;31mNameError\u001b[0m                                 Traceback (most recent call last)",
      "\u001b[0;32m<ipython-input-50-9706b6996e7a>\u001b[0m in \u001b[0;36m<module>\u001b[0;34m\u001b[0m\n\u001b[1;32m      8\u001b[0m \u001b[0mdisp\u001b[0m \u001b[0;34m=\u001b[0m \u001b[0mplot_precision_recall_curve\u001b[0m\u001b[0;34m(\u001b[0m\u001b[0mtree_clf\u001b[0m\u001b[0;34m,\u001b[0m \u001b[0mX_test\u001b[0m\u001b[0;34m,\u001b[0m \u001b[0my_test\u001b[0m\u001b[0;34m)\u001b[0m\u001b[0;34m\u001b[0m\u001b[0;34m\u001b[0m\u001b[0m\n\u001b[1;32m      9\u001b[0m disp.ax_.set_title('2-class Precision-Recall curve: '\n\u001b[0;32m---> 10\u001b[0;31m                    'AR={0:0.2f}'.format(average_recall))\n\u001b[0m\u001b[1;32m     11\u001b[0m \u001b[0mdisp\u001b[0m\u001b[0;34m.\u001b[0m\u001b[0mfit\u001b[0m\u001b[0;34m(\u001b[0m\u001b[0mX_train\u001b[0m\u001b[0;34m,\u001b[0m \u001b[0my_train\u001b[0m\u001b[0;34m)\u001b[0m\u001b[0;34m\u001b[0m\u001b[0;34m\u001b[0m\u001b[0m\n\u001b[1;32m     12\u001b[0m \u001b[0mdisp\u001b[0m\u001b[0;34m.\u001b[0m\u001b[0mscore\u001b[0m\u001b[0;34m(\u001b[0m\u001b[0mX_test\u001b[0m\u001b[0;34m,\u001b[0m \u001b[0mpredict_proba\u001b[0m\u001b[0;34m)\u001b[0m\u001b[0;34m\u001b[0m\u001b[0;34m\u001b[0m\u001b[0m\n",
      "\u001b[0;31mNameError\u001b[0m: name 'average_recall' is not defined"
     ]
    },
    {
     "data": {
      "image/png": "[encoded data removed]",
      "text/plain": [
       "<Figure size 432x288 with 1 Axes>"
      ]
     },
     "metadata": {
      "needs_background": "light"
     },
     "output_type": "display_data"
    }
   ],
   "source": [
    "#plot the precision-recall curve\n",
    "\n",
    "from sklearn.metrics import precision_recall_curve\n",
    "from sklearn.metrics import plot_precision_recall_curve\n",
    "from sklearn.linear_model import RidgeClassifier\n",
    "import matplotlib.pyplot as plt\n",
    "\n",
    "disp = plot_precision_recall_curve(tree_clf, X_test, y_test)\n",
    "disp.ax_.set_title('2-class Precision-Recall curve: '\n",
    "                   'AR={0:0.2f}'.format(average_recall))\n",
    "disp.fit(X_train, y_train)\n",
    "disp.score(X_test, predict_proba)\n",
    "disp.show()"
   ]
  },
  {
   "cell_type": "code",
   "execution_count": 51,
   "metadata": {},
   "outputs": [
    {
     "name": "stdout",
     "output_type": "stream",
     "text": [
      "0.39322677881889867\n"
     ]
    }
   ],
   "source": [
    "average_precision = average_precision_score(y_test, predict_proba)\n",
    "print(average_precision)"
   ]
  },
  {
   "cell_type": "code",
   "execution_count": 53,
   "metadata": {},
   "outputs": [],
   "source": [
    "from sklearn.metrics import recall_score"
   ]
  },
  {
   "cell_type": "code",
   "execution_count": 54,
   "metadata": {},
   "outputs": [
    {
     "name": "stdout",
     "output_type": "stream",
     "text": [
      "Testing Accuracy for Decision Tree Classifier: 81.96%\n"
     ]
    }
   ],
   "source": [
    "print(\"Testing Accuracy for Decision Tree Classifier: {:.4}%\".format(accuracy_score(y_test, predict_proba) * 100))"
   ]
  },
  {
   "cell_type": "code",
   "execution_count": 55,
   "metadata": {},
   "outputs": [
    {
     "data": {
      "text/plain": [
       "DecisionTreeClassifier(ccp_alpha=0.0, class_weight=None, criterion='entropy',\n",
       "                       max_depth=None, max_features=None, max_leaf_nodes=None,\n",
       "                       min_impurity_decrease=0.0, min_impurity_split=None,\n",
       "                       min_samples_leaf=1, min_samples_split=2,\n",
       "                       min_weight_fraction_leaf=0.0, presort='deprecated',\n",
       "                       random_state=10, splitter='best')"
      ]
     },
     "execution_count": 55,
     "metadata": {},
     "output_type": "execute_result"
    }
   ],
   "source": [
    "#instantiate and fit a random tree classifier using entropy\n",
    "\n",
    "classifier_2 = DecisionTreeClassifier(random_state=10, criterion='entropy')  \n",
    "classifier_2.fit(X_train, y_train)"
   ]
  },
  {
   "cell_type": "code",
   "execution_count": 56,
   "metadata": {},
   "outputs": [],
   "source": [
    "# Create DOT data\n",
    "dot_data = export_graphviz(classifier_2, out_file=None, \n",
    "                           feature_names=X_train.columns,  \n",
    "                           class_names=np.unique(y).astype('str'), \n",
    "                           filled=True, rounded=True, special_characters=True)"
   ]
  },
  {
   "cell_type": "code",
   "execution_count": 57,
   "metadata": {},
   "outputs": [],
   "source": [
    "# Draw graph\n",
    "graph = graph_from_dot_data(dot_data)  "
   ]
  },
  {
   "cell_type": "code",
   "execution_count": 58,
   "metadata": {},
   "outputs": [
    {
     "ename": "SyntaxError",
     "evalue": "invalid syntax (<ipython-input-58-a0413b621836>, line 1)",
     "output_type": "error",
     "traceback": [
      "\u001b[0;36m  File \u001b[0;32m\"<ipython-input-58-a0413b621836>\"\u001b[0;36m, line \u001b[0;32m1\u001b[0m\n\u001b[0;31m    Show graph\u001b[0m\n\u001b[0m             ^\u001b[0m\n\u001b[0;31mSyntaxError\u001b[0m\u001b[0;31m:\u001b[0m invalid syntax\n"
     ]
    }
   ],
   "source": [
    "Show graph\n",
    "Image(graph.create_png())"
   ]
  },
  {
   "cell_type": "markdown",
   "metadata": {},
   "source": [
    "# Fitting a RandomForestClassifier "
   ]
  },
  {
   "cell_type": "code",
   "execution_count": null,
   "metadata": {},
   "outputs": [],
   "source": [
    "# Instantiate and fit a RandomForestClassifier\n",
    "forest = RandomForestClassifier(n_estimators=100, max_depth= 5)\n",
    "forest.fit(X_train, y_train)"
   ]
  },
  {
   "cell_type": "code",
   "execution_count": null,
   "metadata": {},
   "outputs": [],
   "source": [
    "from sklearn.feature_selection import SelectFromModel"
   ]
  },
  {
   "cell_type": "code",
   "execution_count": null,
   "metadata": {},
   "outputs": [],
   "source": [
    "# checking mean accuracy on the training and testing data of the model\n",
    "# training accuracy score\n",
    "\n",
    "forest.score(X_train, y_train)"
   ]
  },
  {
   "cell_type": "code",
   "execution_count": null,
   "metadata": {},
   "outputs": [],
   "source": [
    "# testing accuracy score\n",
    "\n",
    "forest.score(X_test, y_test)"
   ]
  },
  {
   "cell_type": "code",
   "execution_count": null,
   "metadata": {},
   "outputs": [],
   "source": [
    "plot_feature_importances(forest)"
   ]
  },
  {
   "cell_type": "code",
   "execution_count": null,
   "metadata": {},
   "outputs": [],
   "source": [
    "first_tree = best_model.estimators_[1]\n",
    "imps = first_tree.feature_importances_\n",
    "imps"
   ]
  },
  {
   "cell_type": "code",
   "execution_count": null,
   "metadata": {},
   "outputs": [],
   "source": [
    "for i in range(100):\n",
    "    first_tree = best_model.estimators_[i]\n",
    "    imps = first_tree.feature_importances_\n",
    "    for j in range(len(imps)):\n",
    "        if imps[j]==0:\n",
    "            print('missing var at {} position {}'.format(i,j))"
   ]
  },
  {
   "cell_type": "code",
   "execution_count": null,
   "metadata": {},
   "outputs": [],
   "source": [
    "from sklearn.externals.six import StringIO\n",
    "from IPython.display import Image  \n",
    "from sklearn.tree import export_graphviz\n",
    "import pydotplus\n",
    "dot_data = StringIO()\n",
    "export_graphviz(first_tree, out_file=dot_data,  \n",
    "                filled=True, rounded=True,\n",
    "                special_characters=True,feature_names=X.columns)\n",
    "graph = pydotplus.graph_from_dot_data(dot_data.getvalue())  \n",
    "Image(graph.create_png())"
   ]
  },
  {
   "cell_type": "code",
   "execution_count": null,
   "metadata": {},
   "outputs": [],
   "source": [
    "list(best_model.feature_importances_)"
   ]
  },
  {
   "cell_type": "code",
   "execution_count": 60,
   "metadata": {},
   "outputs": [],
   "source": [
    "from sklearn.tree import DecisionTreeClassifier\n",
    "model = DecisionTreeClassifier(max_depth=3,min_samples_leaf=10)"
   ]
  },
  {
   "cell_type": "code",
   "execution_count": 61,
   "metadata": {},
   "outputs": [
    {
     "data": {
      "text/plain": [
       "DecisionTreeClassifier(ccp_alpha=0.0, class_weight=None, criterion='gini',\n",
       "                       max_depth=3, max_features=None, max_leaf_nodes=None,\n",
       "                       min_impurity_decrease=0.0, min_impurity_split=None,\n",
       "                       min_samples_leaf=10, min_samples_split=2,\n",
       "                       min_weight_fraction_leaf=0.0, presort='deprecated',\n",
       "                       random_state=None, splitter='best')"
      ]
     },
     "execution_count": 61,
     "metadata": {},
     "output_type": "execute_result"
    }
   ],
   "source": [
    "model.fit(X_train,y_train)"
   ]
  },
  {
   "cell_type": "code",
   "execution_count": 62,
   "metadata": {},
   "outputs": [],
   "source": [
    "probas = model.predict_proba(X_test)"
   ]
  },
  {
   "cell_type": "code",
   "execution_count": 63,
   "metadata": {},
   "outputs": [
    {
     "data": {
      "text/plain": [
       "0.754445385266723"
      ]
     },
     "execution_count": 63,
     "metadata": {},
     "output_type": "execute_result"
    }
   ],
   "source": [
    "from sklearn.metrics import roc_curve,auc\n",
    "fpr,tpr, thrsh = roc_curve(y_test,probas[:,1])\n",
    "auc(fpr,tpr)"
   ]
  },
  {
   "cell_type": "code",
   "execution_count": 64,
   "metadata": {},
   "outputs": [
    {
     "data": {
      "text/plain": [
       "0.754445385266723"
      ]
     },
     "execution_count": 64,
     "metadata": {},
     "output_type": "execute_result"
    }
   ],
   "source": [
    "from sklearn.metrics import precision_recall_curve\n",
    "precision,recall,thrsh = precision_recall_curve(y_test,probas[:,1])\n",
    "auc(fpr,tpr)"
   ]
  },
  {
   "cell_type": "code",
   "execution_count": 65,
   "metadata": {},
   "outputs": [
    {
     "name": "stdout",
     "output_type": "stream",
     "text": [
      "              precision    recall  f1-score   support\n",
      "\n",
      "           0       0.84      0.95      0.89      4106\n",
      "           1       0.67      0.38      0.49      1181\n",
      "\n",
      "    accuracy                           0.82      5287\n",
      "   macro avg       0.75      0.66      0.69      5287\n",
      "weighted avg       0.80      0.82      0.80      5287\n",
      "\n"
     ]
    }
   ],
   "source": [
    "print(classification_report(y_test, predict_proba))"
   ]
  },
  {
   "cell_type": "markdown",
   "metadata": {},
   "source": [
    "# instantiating a bagging classifier"
   ]
  },
  {
   "cell_type": "code",
   "execution_count": 66,
   "metadata": {},
   "outputs": [],
   "source": [
    "#trying the bagged tree method\n",
    "\n",
    "bagged_tree =  BaggingClassifier(DecisionTreeClassifier(criterion='entropy', max_depth=5), n_estimators=20)"
   ]
  },
  {
   "cell_type": "code",
   "execution_count": 67,
   "metadata": {},
   "outputs": [
    {
     "data": {
      "text/plain": [
       "BaggingClassifier(base_estimator=DecisionTreeClassifier(ccp_alpha=0.0,\n",
       "                                                        class_weight=None,\n",
       "                                                        criterion='entropy',\n",
       "                                                        max_depth=5,\n",
       "                                                        max_features=None,\n",
       "                                                        max_leaf_nodes=None,\n",
       "                                                        min_impurity_decrease=0.0,\n",
       "                                                        min_impurity_split=None,\n",
       "                                                        min_samples_leaf=1,\n",
       "                                                        min_samples_split=2,\n",
       "                                                        min_weight_fraction_leaf=0.0,\n",
       "                                                        presort='deprecated',\n",
       "                                                        random_state=None,\n",
       "                                                        splitter='best'),\n",
       "                  bootstrap=True, bootstrap_features=False, max_features=1.0,\n",
       "                  max_samples=1.0, n_estimators=20, n_jobs=None,\n",
       "                  oob_score=False, random_state=None, verbose=0,\n",
       "                  warm_start=False)"
      ]
     },
     "execution_count": 67,
     "metadata": {},
     "output_type": "execute_result"
    }
   ],
   "source": [
    "#fit to the training data\n",
    "\n",
    "bagged_tree.fit(X_train, y_train)"
   ]
  },
  {
   "cell_type": "code",
   "execution_count": 68,
   "metadata": {},
   "outputs": [
    {
     "data": {
      "text/plain": [
       "0.8194457580629906"
      ]
     },
     "execution_count": 68,
     "metadata": {},
     "output_type": "execute_result"
    }
   ],
   "source": [
    "#calculating the accuracy score of the bagging tree using training data and labels as variables\n",
    "bagged_tree.score(X_train, y_train)"
   ]
  },
  {
   "cell_type": "code",
   "execution_count": 69,
   "metadata": {},
   "outputs": [
    {
     "data": {
      "text/plain": [
       "0.8182334026858332"
      ]
     },
     "execution_count": 69,
     "metadata": {},
     "output_type": "execute_result"
    }
   ],
   "source": [
    "#testing the accuracy score\n",
    "bagged_tree.score(X_test, y_test)"
   ]
  },
  {
   "cell_type": "markdown",
   "metadata": {},
   "source": [
    "# Hyperparameter tuning and pruning "
   ]
  },
  {
   "cell_type": "code",
   "execution_count": 70,
   "metadata": {},
   "outputs": [
    {
     "data": {
      "text/plain": [
       "DecisionTreeClassifier(ccp_alpha=0.0, class_weight=None, criterion='entropy',\n",
       "                       max_depth=None, max_features=None, max_leaf_nodes=None,\n",
       "                       min_impurity_decrease=0.0, min_impurity_split=None,\n",
       "                       min_samples_leaf=1, min_samples_split=2,\n",
       "                       min_weight_fraction_leaf=0.0, presort='deprecated',\n",
       "                       random_state=1, splitter='best')"
      ]
     },
     "execution_count": 70,
     "metadata": {},
     "output_type": "execute_result"
    }
   ],
   "source": [
    "#creating a vanilla classifier to set our baseline model\n",
    "#instantiating a decision tree and fit classifier to the training data\n",
    "\n",
    "SEED = 1\n",
    "X_train, X_test, y_train, y_test = train_test_split(X,y, test_size=0.3, random_state=SEED)\n",
    "dt = DecisionTreeClassifier(criterion='entropy', random_state=SEED)\n",
    "dt.fit(X_train, y_train)"
   ]
  },
  {
   "cell_type": "code",
   "execution_count": 73,
   "metadata": {},
   "outputs": [
    {
     "name": "stdout",
     "output_type": "stream",
     "text": [
      "Mean Cross Validation Score:  71.32%\n"
     ]
    }
   ],
   "source": [
    "tree_clf = DecisionTreeClassifier()\n",
    "tree_cv_score = cross_val_score(tree_clf, X_train, y_train, cv=3)\n",
    "mean_tree_cv_score = np.mean(tree_cv_score)\n",
    "\n",
    "print(f\"Mean Cross Validation Score: {mean_tree_cv_score : .2%}\")"
   ]
  },
  {
   "cell_type": "code",
   "execution_count": 74,
   "metadata": {},
   "outputs": [
    {
     "name": "stdout",
     "output_type": "stream",
     "text": [
      "our model performed fairly though there is room for improvement\n"
     ]
    }
   ],
   "source": [
    "print(\"our model performed fairly though there is room for improvement\")"
   ]
  },
  {
   "cell_type": "code",
   "execution_count": 75,
   "metadata": {},
   "outputs": [
    {
     "name": "stdout",
     "output_type": "stream",
     "text": [
      "Trying GridSearchCV for hyperparameter tuning our model using Combinatoric Grid Searching\n"
     ]
    }
   ],
   "source": [
    "print(\"Trying GridSearchCV for hyperparameter tuning our model using Combinatoric Grid Searching\")"
   ]
  },
  {
   "cell_type": "markdown",
   "metadata": {},
   "source": [
    "# Hyperparameter Optimisation"
   ]
  },
  {
   "cell_type": "code",
   "execution_count": 76,
   "metadata": {},
   "outputs": [],
   "source": [
    "from sklearn.ensemble import RandomForestClassifier\n",
    "model = RandomForestClassifier(n_estimators=100)"
   ]
  },
  {
   "cell_type": "code",
   "execution_count": 77,
   "metadata": {},
   "outputs": [
    {
     "data": {
      "text/plain": [
       "{'max_depth': 7, 'min_samples_leaf': 5}"
      ]
     },
     "execution_count": 77,
     "metadata": {},
     "output_type": "execute_result"
    }
   ],
   "source": [
    "from sklearn.model_selection import GridSearchCV\n",
    "\n",
    "param_grid = {'max_depth':[3, 5, 7],'min_samples_leaf':[5,10,15]}\n",
    "\n",
    "opt_model = GridSearchCV(model,param_grid,cv=10,scoring='f1')\n",
    "opt_model.fit(X_train,y_train)\n",
    "best_model = opt_model.best_estimator_\n",
    "\n",
    "opt_model.best_params_"
   ]
  },
  {
   "cell_type": "code",
   "execution_count": 78,
   "metadata": {},
   "outputs": [
    {
     "data": {
      "text/html": [
       "<div>\n",
       "<style scoped>\n",
       "    .dataframe tbody tr th:only-of-type {\n",
       "        vertical-align: middle;\n",
       "    }\n",
       "\n",
       "    .dataframe tbody tr th {\n",
       "        vertical-align: top;\n",
       "    }\n",
       "\n",
       "    .dataframe thead th {\n",
       "        text-align: right;\n",
       "    }\n",
       "</style>\n",
       "<table border=\"1\" class=\"dataframe\">\n",
       "  <thead>\n",
       "    <tr style=\"text-align: right;\">\n",
       "      <th></th>\n",
       "      <th>rank_test_score</th>\n",
       "      <th>params</th>\n",
       "      <th>mean_test_score</th>\n",
       "      <th>std_test_score</th>\n",
       "    </tr>\n",
       "  </thead>\n",
       "  <tbody>\n",
       "    <tr>\n",
       "      <td>0</td>\n",
       "      <td>8</td>\n",
       "      <td>{'max_depth': 3, 'min_samples_leaf': 5}</td>\n",
       "      <td>0.452381</td>\n",
       "      <td>0.020794</td>\n",
       "    </tr>\n",
       "    <tr>\n",
       "      <td>1</td>\n",
       "      <td>9</td>\n",
       "      <td>{'max_depth': 3, 'min_samples_leaf': 10}</td>\n",
       "      <td>0.451708</td>\n",
       "      <td>0.019354</td>\n",
       "    </tr>\n",
       "    <tr>\n",
       "      <td>2</td>\n",
       "      <td>7</td>\n",
       "      <td>{'max_depth': 3, 'min_samples_leaf': 15}</td>\n",
       "      <td>0.461791</td>\n",
       "      <td>0.012182</td>\n",
       "    </tr>\n",
       "    <tr>\n",
       "      <td>3</td>\n",
       "      <td>2</td>\n",
       "      <td>{'max_depth': 5, 'min_samples_leaf': 5}</td>\n",
       "      <td>0.469234</td>\n",
       "      <td>0.012283</td>\n",
       "    </tr>\n",
       "    <tr>\n",
       "      <td>4</td>\n",
       "      <td>4</td>\n",
       "      <td>{'max_depth': 5, 'min_samples_leaf': 10}</td>\n",
       "      <td>0.468388</td>\n",
       "      <td>0.012176</td>\n",
       "    </tr>\n",
       "    <tr>\n",
       "      <td>5</td>\n",
       "      <td>6</td>\n",
       "      <td>{'max_depth': 5, 'min_samples_leaf': 15}</td>\n",
       "      <td>0.467724</td>\n",
       "      <td>0.011536</td>\n",
       "    </tr>\n",
       "    <tr>\n",
       "      <td>6</td>\n",
       "      <td>1</td>\n",
       "      <td>{'max_depth': 7, 'min_samples_leaf': 5}</td>\n",
       "      <td>0.469588</td>\n",
       "      <td>0.010334</td>\n",
       "    </tr>\n",
       "    <tr>\n",
       "      <td>7</td>\n",
       "      <td>3</td>\n",
       "      <td>{'max_depth': 7, 'min_samples_leaf': 10}</td>\n",
       "      <td>0.468678</td>\n",
       "      <td>0.013733</td>\n",
       "    </tr>\n",
       "    <tr>\n",
       "      <td>8</td>\n",
       "      <td>5</td>\n",
       "      <td>{'max_depth': 7, 'min_samples_leaf': 15}</td>\n",
       "      <td>0.467939</td>\n",
       "      <td>0.011601</td>\n",
       "    </tr>\n",
       "  </tbody>\n",
       "</table>\n",
       "</div>"
      ],
      "text/plain": [
       "   rank_test_score                                    params  mean_test_score  \\\n",
       "0                8   {'max_depth': 3, 'min_samples_leaf': 5}         0.452381   \n",
       "1                9  {'max_depth': 3, 'min_samples_leaf': 10}         0.451708   \n",
       "2                7  {'max_depth': 3, 'min_samples_leaf': 15}         0.461791   \n",
       "3                2   {'max_depth': 5, 'min_samples_leaf': 5}         0.469234   \n",
       "4                4  {'max_depth': 5, 'min_samples_leaf': 10}         0.468388   \n",
       "5                6  {'max_depth': 5, 'min_samples_leaf': 15}         0.467724   \n",
       "6                1   {'max_depth': 7, 'min_samples_leaf': 5}         0.469588   \n",
       "7                3  {'max_depth': 7, 'min_samples_leaf': 10}         0.468678   \n",
       "8                5  {'max_depth': 7, 'min_samples_leaf': 15}         0.467939   \n",
       "\n",
       "   std_test_score  \n",
       "0        0.020794  \n",
       "1        0.019354  \n",
       "2        0.012182  \n",
       "3        0.012283  \n",
       "4        0.012176  \n",
       "5        0.011536  \n",
       "6        0.010334  \n",
       "7        0.013733  \n",
       "8        0.011601  "
      ]
     },
     "execution_count": 78,
     "metadata": {},
     "output_type": "execute_result"
    }
   ],
   "source": [
    "cv_table = pd.DataFrame(opt_model.cv_results_)\n",
    "columns = [\"rank_test_score\", \"params\", \"mean_test_score\", \"std_test_score\"]\n",
    "cv_table[columns]"
   ]
  },
  {
   "cell_type": "code",
   "execution_count": 79,
   "metadata": {},
   "outputs": [
    {
     "ename": "ModuleNotFoundError",
     "evalue": "No module named 'pandas_ml'",
     "output_type": "error",
     "traceback": [
      "\u001b[0;31m---------------------------------------------------------------------------\u001b[0m",
      "\u001b[0;31mModuleNotFoundError\u001b[0m                       Traceback (most recent call last)",
      "\u001b[0;32m<ipython-input-79-280141b95f5e>\u001b[0m in \u001b[0;36m<module>\u001b[0;34m\u001b[0m\n\u001b[0;32m----> 1\u001b[0;31m \u001b[0;32mfrom\u001b[0m \u001b[0mpandas_ml\u001b[0m \u001b[0;32mimport\u001b[0m \u001b[0mConfusionMatrix\u001b[0m\u001b[0;34m\u001b[0m\u001b[0;34m\u001b[0m\u001b[0m\n\u001b[0m\u001b[1;32m      2\u001b[0m \u001b[0my_pred_gs\u001b[0m \u001b[0;34m=\u001b[0m \u001b[0mbest_model\u001b[0m\u001b[0;34m.\u001b[0m\u001b[0mpredict\u001b[0m\u001b[0;34m(\u001b[0m\u001b[0mX_test\u001b[0m\u001b[0;34m)\u001b[0m\u001b[0;34m\u001b[0m\u001b[0;34m\u001b[0m\u001b[0m\n\u001b[1;32m      3\u001b[0m \u001b[0mcm_gs\u001b[0m \u001b[0;34m=\u001b[0m \u001b[0mConfusionMatrix\u001b[0m\u001b[0;34m(\u001b[0m\u001b[0my_test\u001b[0m\u001b[0;34m,\u001b[0m \u001b[0my_pred_gs\u001b[0m\u001b[0;34m)\u001b[0m\u001b[0;34m\u001b[0m\u001b[0;34m\u001b[0m\u001b[0m\n\u001b[1;32m      4\u001b[0m \u001b[0mprint\u001b[0m\u001b[0;34m(\u001b[0m\u001b[0mcm_gs\u001b[0m\u001b[0;34m)\u001b[0m\u001b[0;34m\u001b[0m\u001b[0;34m\u001b[0m\u001b[0m\n\u001b[1;32m      5\u001b[0m \u001b[0mprint\u001b[0m\u001b[0;34m(\u001b[0m\u001b[0;34m'Precision is:'\u001b[0m\u001b[0;34m+\u001b[0m\u001b[0mstr\u001b[0m\u001b[0;34m(\u001b[0m\u001b[0mround\u001b[0m\u001b[0;34m(\u001b[0m\u001b[0mprecision_score\u001b[0m\u001b[0;34m(\u001b[0m\u001b[0my_test\u001b[0m\u001b[0;34m,\u001b[0m \u001b[0my_pred_gs\u001b[0m\u001b[0;34m)\u001b[0m\u001b[0;34m,\u001b[0m\u001b[0;36m2\u001b[0m\u001b[0;34m)\u001b[0m\u001b[0;34m)\u001b[0m\u001b[0;34m)\u001b[0m\u001b[0;34m\u001b[0m\u001b[0;34m\u001b[0m\u001b[0m\n",
      "\u001b[0;31mModuleNotFoundError\u001b[0m: No module named 'pandas_ml'"
     ]
    }
   ],
   "source": [
    "from pandas_ml import ConfusionMatrix\n",
    "y_pred_gs = best_model.predict(X_test)\n",
    "cm_gs = ConfusionMatrix(y_test, y_pred_gs)\n",
    "print(cm_gs)\n",
    "print('Precision is:'+str(round(precision_score(y_test, y_pred_gs),2)))\n",
    "print('Recall is:'+str(round(recall_score(y_test, y_pred_gs, average='binary'),2)))\n",
    "print('F1 score is:'+str(round(f1_score(y_test, y_pred_gs, average='binary'),2)))"
   ]
  },
  {
   "cell_type": "code",
   "execution_count": null,
   "metadata": {},
   "outputs": [],
   "source": [
    "from sklearn.metrics import roc_curve,auc\n",
    "\n",
    "probas = best_model.predict_proba(X_test)\n",
    "fpr,tpr,thr = roc_curve(y_test,probas[:,1])\n",
    "plt.plot(fpr,tpr)\n",
    "auc(fpr,tpr)"
   ]
  },
  {
   "cell_type": "code",
   "execution_count": null,
   "metadata": {},
   "outputs": [],
   "source": [
    "# # Create a box plot of each column\n",
    "# plt.figure(figsize=(20, 10))\n",
    "# plt.boxplot([credit[col] for col in credit.columns])\n",
    "# plt.title(\"Box plot of all columns in dataset\")\n",
    "# plt.xticks(range(len(credit.columns.values)), credit.columns.values)\n",
    "# plt.show()"
   ]
  },
  {
   "cell_type": "code",
   "execution_count": null,
   "metadata": {},
   "outputs": [],
   "source": [
    "# set(credit['limit_used_sep']);"
   ]
  },
  {
   "cell_type": "code",
   "execution_count": null,
   "metadata": {},
   "outputs": [],
   "source": [
    "# ax = sns.swarmplot(x='pay_sep', y='limit_bal', data = credit_default)"
   ]
  },
  {
   "cell_type": "code",
   "execution_count": null,
   "metadata": {},
   "outputs": [],
   "source": [
    "# ax = sns.boxplot(x='education', y='pay_sep', hue = 'sex', data = credit_default)"
   ]
  },
  {
   "cell_type": "code",
   "execution_count": null,
   "metadata": {},
   "outputs": [],
   "source": [
    "# boxplot = credit_default.boxplot(column = ['pay_3mos'], by = 'sex')"
   ]
  },
  {
   "cell_type": "code",
   "execution_count": null,
   "metadata": {},
   "outputs": [],
   "source": [
    "# boxplot = credit_default.boxplot(column = ['pay_3mos'], by = 'education')"
   ]
  },
  {
   "cell_type": "code",
   "execution_count": null,
   "metadata": {},
   "outputs": [],
   "source": [
    "# boxplot = credit_default.boxplot(column = ['pay_3mos'], by = 'marital_status')"
   ]
  },
  {
   "cell_type": "code",
   "execution_count": null,
   "metadata": {},
   "outputs": [],
   "source": [
    "# sns.catplot(x=\"education\", y=\"pay_3mos\", hue=\"sex\", kind=\"box\", data=credit_default)"
   ]
  },
  {
   "cell_type": "code",
   "execution_count": null,
   "metadata": {},
   "outputs": [],
   "source": [
    "# sns.catplot(x=\"marital_status\", y=\"pay_3mos\", hue=\"sex\", kind=\"box\", data=credit_default)"
   ]
  },
  {
   "cell_type": "code",
   "execution_count": null,
   "metadata": {},
   "outputs": [],
   "source": [
    "# boxplot = credit_default.boxplot(column = ['pay_3mos'], by = 'education')"
   ]
  },
  {
   "cell_type": "code",
   "execution_count": null,
   "metadata": {},
   "outputs": [],
   "source": [
    "# credit_no_default = credit.loc[credit['default_payment_next_month'] == 0]\n",
    "# credit_no_default"
   ]
  },
  {
   "cell_type": "code",
   "execution_count": null,
   "metadata": {},
   "outputs": [],
   "source": [
    "# boxplot = credit_no_default.boxplot(column = ['pay_3mos'], by = 'sex')"
   ]
  },
  {
   "cell_type": "code",
   "execution_count": null,
   "metadata": {},
   "outputs": [],
   "source": [
    "# boxplot = credit_no_default.boxplot(column = ['pay_3mos'], by = 'education')"
   ]
  },
  {
   "cell_type": "code",
   "execution_count": null,
   "metadata": {},
   "outputs": [],
   "source": [
    "# boxplot = credit_no_default.boxplot(column = ['pay_3mos'], by = 'marital_status')"
   ]
  },
  {
   "cell_type": "code",
   "execution_count": null,
   "metadata": {},
   "outputs": [],
   "source": [
    "# boxplot = credit_no_default.boxplot(column = ['pay_3mos'], by = 'age_cat')"
   ]
  },
  {
   "cell_type": "code",
   "execution_count": null,
   "metadata": {},
   "outputs": [],
   "source": [
    "# ax = sns.boxplot(x='pay_sep', y='limit_bal', hue = 'sex', data = credit_no_default)"
   ]
  },
  {
   "cell_type": "code",
   "execution_count": null,
   "metadata": {},
   "outputs": [],
   "source": [
    "# ax = sns.boxplot(x='education', y='pay_sep', hue = 'sex', data = credit_no_default)"
   ]
  },
  {
   "cell_type": "code",
   "execution_count": null,
   "metadata": {},
   "outputs": [],
   "source": [
    "# df_balance = df.groupby(['EDUCATION', 'SEX']).size()\n",
    "# plot_df_balance = df_balance.plot(title = 'education level', kind='bar')\n",
    "# plot_df_balance.set_xlabel('education by gender')\n",
    "# plot_df_balance.set_ylabel('frequency')"
   ]
  },
  {
   "cell_type": "code",
   "execution_count": null,
   "metadata": {},
   "outputs": [],
   "source": [
    "# df.groupby('SEX')['EDUCATION'].count().plot(kind='bar')\n",
    "# plt.show()"
   ]
  },
  {
   "cell_type": "code",
   "execution_count": null,
   "metadata": {},
   "outputs": [],
   "source": [
    "# df.groupby(['AGE', 'LIMIT_BAL'])['LIMIT_BAL'].count().plot.bar(figsize=(8,6))"
   ]
  },
  {
   "cell_type": "code",
   "execution_count": null,
   "metadata": {},
   "outputs": [],
   "source": [
    "# sns.pairplot(df)\n",
    "# plt.show();"
   ]
  }
 ],
 "metadata": {
  "kernelspec": {
   "display_name": "Python 3",
   "language": "python",
   "name": "python3"
  },
  "language_info": {
   "codemirror_mode": {
    "name": "ipython",
    "version": 3
   },
   "file_extension": ".py",
   "mimetype": "text/x-python",
   "name": "python",
   "nbconvert_exporter": "python",
   "pygments_lexer": "ipython3",
   "version": "3.6.9"
  }
 },
 "nbformat": 4,
 "nbformat_minor": 4
}
